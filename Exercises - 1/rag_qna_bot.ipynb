{
 "cells": [
  {
   "cell_type": "code",
   "execution_count": 1,
   "metadata": {},
   "outputs": [
    {
     "data": {
      "text/plain": [
       "True"
      ]
     },
     "execution_count": 1,
     "metadata": {},
     "output_type": "execute_result"
    }
   ],
   "source": [
    "from langchain_community.document_loaders import PyPDFLoader\n",
    "from langchain.text_splitter import RecursiveCharacterTextSplitter\n",
    "from langchain_community.vectorstores.azuresearch import AzureSearch\n",
    "from langchain_openai import AzureOpenAIEmbeddings\n",
    "from openai import AzureOpenAI\n",
    "from dotenv import load_dotenv\n",
    "import os\n",
    "\n",
    "load_dotenv()"
   ]
  },
  {
   "cell_type": "code",
   "execution_count": 2,
   "metadata": {},
   "outputs": [],
   "source": [
    "# Azure Keys\n",
    "azure_endpoint: str = os.environ.get('AZURE_ENDPOINT')\n",
    "azure_openai_api_key: str = os.environ.get('AZURE_OPENAI_API_KEY')\n",
    "azure_openai_api_version: str = os.environ.get('AZURE_OPENAI_API_VERSION')\n",
    "azure_deployment: str = os.environ.get('AZURE_DEPLOYMENT')"
   ]
  },
  {
   "cell_type": "code",
   "execution_count": 3,
   "metadata": {},
   "outputs": [],
   "source": [
    "#Azure opensearch keys\n",
    "vector_store_address: str = os.environ.get('VECTOR_STORE_ADDRESS')\n",
    "vector_store_password: str = os.environ.get('VECTOR_STORE_PASSWORD')"
   ]
  },
  {
   "cell_type": "code",
   "execution_count": 4,
   "metadata": {},
   "outputs": [],
   "source": [
    "client = AzureOpenAI(\n",
    "    api_key=azure_openai_api_key,\n",
    "    api_version=azure_openai_api_version,\n",
    "    azure_endpoint = azure_endpoint\n",
    ")"
   ]
  },
  {
   "cell_type": "code",
   "execution_count": 5,
   "metadata": {},
   "outputs": [
    {
     "name": "stdout",
     "output_type": "stream",
     "text": [
      "{'producer': 'PyPDF', 'creator': 'PyPDF', 'creationdate': '', 'source': '../input/data_engineering_notes.pdf', 'total_pages': 15, 'page': 1, 'page_label': '2'}\n"
     ]
    }
   ],
   "source": [
    "#pdf loader\n",
    "loader = PyPDFLoader(\"../input/data_engineering_notes.pdf\")\n",
    "\n",
    "pages = loader.load()\n",
    "print(pages[1].metadata)"
   ]
  },
  {
   "cell_type": "code",
   "execution_count": 6,
   "metadata": {},
   "outputs": [
    {
     "name": "stdout",
     "output_type": "stream",
     "text": [
      "59\n"
     ]
    }
   ],
   "source": [
    "#document splitter\n",
    "\n",
    "splitter = RecursiveCharacterTextSplitter(\n",
    "  chunk_size = 500,\n",
    "  chunk_overlap = 75\n",
    ")\n",
    "\n",
    "chunks = splitter.split_documents(pages)\n",
    "\n",
    "print(len(chunks))"
   ]
  },
  {
   "cell_type": "code",
   "execution_count": 7,
   "metadata": {},
   "outputs": [],
   "source": [
    "#define embedding model\n",
    "embeddings: AzureOpenAIEmbeddings = AzureOpenAIEmbeddings(\n",
    "    azure_deployment=azure_deployment,\n",
    "    openai_api_version=azure_openai_api_version,\n",
    "    azure_endpoint=azure_endpoint,\n",
    "    api_key=azure_openai_api_key,\n",
    ")"
   ]
  },
  {
   "cell_type": "code",
   "execution_count": 8,
   "metadata": {},
   "outputs": [],
   "source": [
    "#create a vector index\n",
    "index_name: str = \"pdf-vector-idx\"\n",
    "vector_store: AzureSearch = AzureSearch(\n",
    "    azure_search_endpoint=vector_store_address,\n",
    "    azure_search_key=vector_store_password,\n",
    "    index_name=index_name,\n",
    "    embedding_function=embeddings.embed_query,\n",
    ")"
   ]
  },
  {
   "cell_type": "code",
   "execution_count": 10,
   "metadata": {},
   "outputs": [
    {
     "data": {
      "text/plain": [
       "['MmM0YjAxM2MtZTQyNS00NjA1LWE4NjQtNmYxYjIwZDdjNzQ1',\n",
       " 'NThmYjkxNzAtZTNhOC00YmJmLTk1YzktZmYxZTk2ZDlmZmRh',\n",
       " 'NDc2YmI3YTYtMzVmNi00NGQ3LThjMGEtZGVhOTQxNmJmZTAz',\n",
       " 'OWQ0NWU3OWQtZjUwZi00MTQ4LThhY2MtNmIwZTI1OWM1Y2M1',\n",
       " 'YmFjNjc0OGYtMjVlMy00MGY2LWIxYjQtMGNlNmRiNGU4NDMz',\n",
       " 'NzAzYzYxZDctZWQyNi00ZDliLTg3ZDMtYTY0MWE5ZWViYzY3',\n",
       " 'NmI5OWQyNDEtYjYyMC00ZjMxLWI3NGYtNzAwMjVmOWVkYTRk',\n",
       " 'Njg2NDEzYzEtNzliNi00ZGJhLWE4YTItNzViZWQ0OTAxNDQ2',\n",
       " 'ZGE5MTVjYWQtZGI1My00ZDBmLTg5NmUtZWMzMThmZDY2M2Y5',\n",
       " 'NWU3ZmUwOWMtNDNlOS00NjFlLThkYWUtNTFkMDgxMWU1NDUz',\n",
       " 'YTY4NmMzYTgtM2Y2ZC00NGQxLTg3YjAtNzI3NzAwYWM1ZjBl',\n",
       " 'MDk5MzUyY2YtMmRiMC00OWIyLThmOGQtNmM5MzgwYjBjNjM2',\n",
       " 'ZjEzZTkxODQtZDM3Zi00NzM3LWFjOTktMzU2MjUzOGExNmIx',\n",
       " 'NzhlZjliMzAtNjU1NS00NWZhLTgxN2ItZDY5YWYyZDRjYzFh',\n",
       " 'YWZmMWNhZTItZTgxYy00MTcwLWIyZjctOTY0Mzg5ZTc5ZDdj',\n",
       " 'NDA3NWM1YzctZTMzMy00MjgzLWJiNzgtODU5NGE2ZTQ3YjA2',\n",
       " 'YjU3OWIxMzMtOWIxOC00Y2VkLTliYzktNDdkY2E1ODRjMjQ5',\n",
       " 'ZGRkMmUzMTctY2Y5NS00N2Q0LWEwNDgtMjA5ODExZTMxOGUx',\n",
       " 'MDA4ZjcwYzAtMzBkNi00YjFhLTkwMTctZjBjNmMyZDg0OTc3',\n",
       " 'Y2ZkYjFhNGEtMmNjZC00MjZjLWJkYmUtNzZlYmJiYzU2NWIy',\n",
       " 'Yjk4MmE5NzktYzllZC00ZmNjLTkxMjgtZGVmYmY0MWJjYTBh',\n",
       " 'ZDg4ZTkzYzktMzY2Yy00MTlkLWFjYTMtYzgzZWNjY2VjNDAy',\n",
       " 'NjJlMjlkYjMtNjEzNS00ZmQxLWJkMzItNjc2NmZkM2M3NWU1',\n",
       " 'YzdkMzQ5ZTQtZDBmNy00MzM5LWI5NGYtMDJhNjFkYzMxZjkw',\n",
       " 'YTYxNzhmNDAtMzA3Ny00OTMzLWEyNjctNDU2NmZlNmMyOTM0',\n",
       " 'Yjk1ZjA0OTctZjYyOS00ZTQ0LTkxNmUtM2M4NTFkYmY0OGQ4',\n",
       " 'M2VmNjQ2MjUtNzYxYi00YzY3LTk3MzUtOWYyOGE3NmI5YmU4',\n",
       " 'ZDg1YmZlNDgtODZiZC00OTgxLThiOTEtMTc0ZjViNGNmOGMw',\n",
       " 'MzljMWJjNzktYjRiYy00NzkyLWE5ZTYtNTNjOTY0OWNjNGM2',\n",
       " 'MzIxZTNlZjAtNGU2MC00NGQ5LTk0NzgtMjA4MmY1MTQ2YTNj',\n",
       " 'MzA5MDM4NmYtOWY5Yy00ZGNkLWI5MmEtOWYwNDc3OGI3NTdk',\n",
       " 'ZDQzYTI1NGEtMWQxNC00OTFhLTlhMmUtMzcxMTBjNDc3MTJk',\n",
       " 'MWYwNzdkMTYtOWUxNi00ZDViLTgzYWItNDQ3YTY4YTA5MGYx',\n",
       " 'Y2JhZGIyYzUtY2MwMC00YTViLTgzMzEtZTBmZjZmOTUxODE2',\n",
       " 'OTQwMTY5ZjYtNGI5Zi00OTAzLWFiZTgtM2Q5Nzg3YmYzZjc3',\n",
       " 'ZmI4OTZiMTMtNTY2OC00OWE1LThmZjAtMjE3NTJhYjljNzcz',\n",
       " 'YTMzODNmNTQtYTZiZS00MTEwLTkzZjQtYzk3NTM3NzdkMmJh',\n",
       " 'NTE4YmYwZDAtNTQ4YS00Njg5LWIyODktYTZmYjE1ZTJiODY5',\n",
       " 'MWJkN2NkOGItMzMxMS00NjM0LTk4MWUtMTBlOWI4NmUyODY4',\n",
       " 'YjNmNmIxM2UtZTk1MC00ZTY3LWE1MWYtN2YyYTQwZTMzMmUy',\n",
       " 'MDc4M2NkZjYtZGFiZC00OTUxLTkwZjMtNGE1YzVlN2E3YTBk',\n",
       " 'YmY2NGUxMGUtYTg4ZC00ODQzLTljYjUtYThkYzBlYjAyZWRl',\n",
       " 'Nzc4MGNiMzAtMDE5My00NDExLTljNWQtODRlODk4ZjZhM2M2',\n",
       " 'MGM4ZGI4YjUtZWJkMi00MGRhLWI3MWYtMWY0MDExOTEzZWEy',\n",
       " 'M2NlYTQyMzUtNTVmOS00ZDQ5LTg5NjUtYTM5N2RkZGIzNjQ0',\n",
       " 'ZGQwNjZhMzQtMWIxZS00NzFhLTk4ZWMtMGVkOTgwNWZmNjQ3',\n",
       " 'YmM4NWEwNjQtMjIzYS00YWIxLWExN2ItZDJmZDRhZjE0OWNj',\n",
       " 'NTE0ZmFiZmEtNmQ1ZS00MjY0LTg0ZTYtMDYwYjVmYzE5NzBj',\n",
       " 'ODBlNTc4YzktMDkwZS00MGVhLTkwZWQtNzUyMmQ3Yjg3NTBj',\n",
       " 'OWY0OTBjMjItYmY4OS00MjY0LWE2NTUtYTg0ODBjMDJmMDJh',\n",
       " 'NzY0ZWU1MjktMWZiMS00YmYwLWE0ZDYtNmY5N2JhNGJhZTRi',\n",
       " 'ZDUwYzRiOWMtOGYyYi00MmRkLWFlMWMtZmIxZTk1M2ViMWUz',\n",
       " 'MDc2OGU2ODctZDdmMS00MzA1LWIzYTEtZjcwYTU3MzdmNGNm',\n",
       " 'YTJiODViNWEtMjBkZS00M2QzLWE0MDQtYzY1YjQwODJjNzdj',\n",
       " 'ODgwYWExZDItMTg5Mi00MDVhLWE0ZmItYTAzOWQyMDUyMzZj',\n",
       " 'MTVmZDE1ODEtYjFjOS00OWE0LTg1ZjgtOWIxNGRjZjQ3NGZl',\n",
       " 'ZjcxOTVkYzktMTg1NS00ZmI2LWJiODktMzc5OThkNjU3NWQ1',\n",
       " 'ZjNkZjRmMTItZmJhZi00ZWFlLWJhYzQtYzcwMzkzMjQyNTAw',\n",
       " 'ODJmNzI0NDItOWYzYy00Y2RkLWExZGYtNWQzZWI3MWJkMGIz']"
      ]
     },
     "execution_count": 10,
     "metadata": {},
     "output_type": "execute_result"
    }
   ],
   "source": [
    "#add documents\n",
    "vector_store.add_documents(documents=chunks)"
   ]
  },
  {
   "cell_type": "code",
   "execution_count": 11,
   "metadata": {},
   "outputs": [
    {
     "name": "stdout",
     "output_type": "stream",
     "text": [
      "[Document(metadata={'id': 'Y2ZkYjFhNGEtMmNjZC00MjZjLWJkYmUtNzZlYmJiYzU2NWIy', 'producer': 'PyPDF', 'creator': 'PyPDF', 'creationdate': '', 'source': '../input/data_engineering_notes.pdf', 'total_pages': 15, 'page': 4, 'page_label': '5'}, page_content='● A COMMENT is added to allow for easier discovery of \\ntable contents \\n● A LOCATION is specified, which will result in an \\nexternal (rather than managed) table \\n● The table is PARTITIONED BY a date column; this \\nmeans that the data from each data will exist within its \\nown directory in the target storage location \\n4.3.5. Cloning Delta lake Table \\n4.3.5.1. DEEP CLONE fully copies data and metadata from a source \\ntable to a target. This copy occurs incrementally, so'), Document(metadata={'id': 'Yjk4MmE5NzktYzllZC00ZmNjLTkxMjgtZGVmYmY0MWJjYTBh', 'producer': 'PyPDF', 'creator': 'PyPDF', 'creationdate': '', 'source': '../input/data_engineering_notes.pdf', 'total_pages': 15, 'page': 4, 'page_label': '5'}, page_content=\"table to a target. This copy occurs incrementally, so \\nexecuting this command again can sync changes from the \\nsource to the target location. \\n4.3.5.2. SHALLOW CLONE:If you wish to create a copy of a table \\nquickly to test out applying changes without the risk of \\nmodifying the current table, **`SHALLOW CLONE`** can be \\na good option. Shallow clones just copy the Delta transaction \\nlogs, meaning that the data doesn't move. \\n4.3.5.3. CTAS VS SHALLOW CLONE: Clone is simpler to specify\"), Document(metadata={'id': 'NDA3NWM1YzctZTMzMy00MjgzLWJiNzgtODU5NGE2ZTQ3YjA2', 'producer': 'PyPDF', 'creator': 'PyPDF', 'creationdate': '', 'source': '../input/data_engineering_notes.pdf', 'total_pages': 15, 'page': 3, 'page_label': '4'}, page_content='executing logic on the currently active cluster  Pushing down the \\nquery to the external SQL database and only transferring the \\nresults back to Databricks \\n \\nIn either case, working with very large datasets in external SQL \\ndatabases can incur significant overhead because of \\neither:Network transfer latency associated with moving all data over \\nthe public internet or the execution of query logic in source systems \\nnot optimized for big data queries \\n4.3. Creating Delta tables')]\n",
      "3\n"
     ]
    }
   ],
   "source": [
    "# Perform a similarity search\n",
    "docs = vector_store.similarity_search(\n",
    "    query=\"how to clone delta lake table\",\n",
    "    k=3,\n",
    "    search_type=\"similarity\",\n",
    ")\n",
    "print(docs)\n",
    "print(len(docs))"
   ]
  },
  {
   "cell_type": "code",
   "execution_count": 12,
   "metadata": {},
   "outputs": [],
   "source": [
    "# Define a function to interact with gpt\n",
    "def ask_gpt(query,context):\n",
    "    template = f\"\"\"\n",
    "      You are a information retrieval AI. Format the retrieved information as a table or text\n",
    "      Use only the context for your answers, do not make up information\n",
    "      query: {query}\n",
    "\n",
    "      {context} \n",
    "      \"\"\"\n",
    "    try:\n",
    "        # Call the OpenAI API to generate a response\n",
    "      completion = client.chat.completions.create(\n",
    "        model='gpt-4o-mini',\n",
    "        messages=[\n",
    "            {\"role\": \"system\", \"content\": \"You are a helpful assistant.\"},\n",
    "            {\n",
    "                \"role\": \"user\",\n",
    "                \"content\": template\n",
    "            }\n",
    "          ]\n",
    "        )\n",
    "\n",
    "      return completion.choices[0].message.content\n",
    "\n",
    "    except Exception as e:\n",
    "        print(f\"Error: {e}\")\n",
    "        return None\n",
    "    \n",
    "def combine_docs(docs):\n",
    "    return \"\\n\\n\".join(doc.page_content for doc in docs)"
   ]
  },
  {
   "cell_type": "code",
   "execution_count": 13,
   "metadata": {},
   "outputs": [
    {
     "name": "stdout",
     "output_type": "stream",
     "text": [
      "Here's the formatted information on cloning Delta Lake tables:\n",
      "\n",
      "| **Cloning Method**              | **Description**                                                                                                                                                                               |\n",
      "|----------------------------------|-----------------------------------------------------------------------------------------------------------------------------------------------------------------------------------------------|\n",
      "| **Deep Clone**                   | - Fully copies data and metadata from a source table to a target. <br> - This copy occurs incrementally, meaning executing the command again can sync changes from the source to the target. <br> - Copies additional metadata including streaming application transactions. |\n",
      "| **Shallow Clone**                | - Creates a copy of a table quickly without modifying the current table. <br> - Only copies the Delta transaction logs, meaning data does not physically move.                                              |\n",
      "| **CTAS (Create Table As Select)**| - More complex to specify as it requires re-specifying partitioning, constraints, and other information. <br> - Contrast to Shallow Clone which is simpler and retains structure without extra specifications.                          |\n",
      "\n",
      "### Additional Points\n",
      "- **Ease of Discovery**: A COMMENT is added in cloning for easier discovery of table contents.\n",
      "- **Table Location**: A LOCATION is specified which results in an external (rather than managed) table.\n",
      "- **Partitioning**: The cloned table can be PARTITIONED BY a date column, meaning data will exist in its own directory in the target location.\n",
      "\n",
      "### Summary\n",
      "- Cloning is faster, more robust, and can work incrementally, making it advantageous for large datasets compared to traditional methods like CTAS.\n"
     ]
    }
   ],
   "source": [
    "#Rag\n",
    "\n",
    "question = \"how to clone delta lake table\"\n",
    "\n",
    "retriever = vector_store.as_retriever()\n",
    "\n",
    "docs = retriever.invoke(question)\n",
    "\n",
    "combined_docs_context = combine_docs(docs)\n",
    "\n",
    "response = ask_gpt(question,combined_docs_context)\n",
    "print(response)"
   ]
  },
  {
   "cell_type": "code",
   "execution_count": null,
   "metadata": {},
   "outputs": [],
   "source": []
  }
 ],
 "metadata": {
  "kernelspec": {
   "display_name": ".venv",
   "language": "python",
   "name": "python3"
  },
  "language_info": {
   "codemirror_mode": {
    "name": "ipython",
    "version": 3
   },
   "file_extension": ".py",
   "mimetype": "text/x-python",
   "name": "python",
   "nbconvert_exporter": "python",
   "pygments_lexer": "ipython3",
   "version": "3.13.2"
  }
 },
 "nbformat": 4,
 "nbformat_minor": 2
}
