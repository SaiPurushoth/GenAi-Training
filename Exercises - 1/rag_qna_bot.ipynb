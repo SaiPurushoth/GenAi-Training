{
 "cells": [
  {
   "cell_type": "code",
   "execution_count": 7,
   "metadata": {},
   "outputs": [
    {
     "data": {
      "text/plain": [
       "True"
      ]
     },
     "execution_count": 7,
     "metadata": {},
     "output_type": "execute_result"
    }
   ],
   "source": [
    "from langchain_community.document_loaders import PyPDFLoader\n",
    "from langchain.text_splitter import RecursiveCharacterTextSplitter\n",
    "from langchain_community.vectorstores.azuresearch import AzureSearch\n",
    "from langchain_openai import AzureOpenAIEmbeddings\n",
    "from openai import AzureOpenAI\n",
    "from dotenv import load_dotenv\n",
    "import os\n",
    "\n",
    "load_dotenv()"
   ]
  },
  {
   "cell_type": "code",
   "execution_count": null,
   "metadata": {},
   "outputs": [
    {
     "name": "stdout",
     "output_type": "stream",
     "text": [
      "Text-embedding-3-large\n"
     ]
    }
   ],
   "source": [
    "# Azure Keys\n",
    "azure_endpoint: str = os.environ.get('AZURE_ENDPOINT')\n",
    "azure_openai_api_key: str = os.environ.get('AZURE_OPENAI_API_KEY')\n",
    "azure_openai_api_version: str = os.environ.get('AZURE_OPENAI_API_VERSION')\n",
    "azure_deployment: str = os.environ.get('AZURE_DEPLOYMENT')"
   ]
  },
  {
   "cell_type": "code",
   "execution_count": 9,
   "metadata": {},
   "outputs": [],
   "source": [
    "#Azure opensearch keys\n",
    "vector_store_address: str = os.environ.get('VECTOR_STORE_ADDRESS')\n",
    "vector_store_password: str = os.environ.get('VECTOR_STORE_PASSWORD')"
   ]
  },
  {
   "cell_type": "code",
   "execution_count": 10,
   "metadata": {},
   "outputs": [],
   "source": [
    "client = AzureOpenAI(\n",
    "    api_key=azure_openai_api_key,\n",
    "    api_version=azure_openai_api_version,\n",
    "    azure_endpoint = azure_endpoint\n",
    ")"
   ]
  },
  {
   "cell_type": "code",
   "execution_count": 11,
   "metadata": {},
   "outputs": [
    {
     "name": "stdout",
     "output_type": "stream",
     "text": [
      "{'producer': 'PyPDF', 'creator': 'PyPDF', 'creationdate': '', 'source': '../input/data_engineering_notes.pdf', 'total_pages': 15, 'page': 1, 'page_label': '2'}\n"
     ]
    }
   ],
   "source": [
    "#pdf loader\n",
    "loader = PyPDFLoader(\"../input/data_engineering_notes.pdf\")\n",
    "\n",
    "pages = loader.load()\n",
    "print(pages[1].metadata)"
   ]
  },
  {
   "cell_type": "code",
   "execution_count": 12,
   "metadata": {},
   "outputs": [
    {
     "name": "stdout",
     "output_type": "stream",
     "text": [
      "59\n"
     ]
    }
   ],
   "source": [
    "#document splitter\n",
    "\n",
    "splitter = RecursiveCharacterTextSplitter(\n",
    "  chunk_size = 500,\n",
    "  chunk_overlap = 75\n",
    ")\n",
    "\n",
    "chunks = splitter.split_documents(pages)\n",
    "\n",
    "print(len(chunks))"
   ]
  },
  {
   "cell_type": "code",
   "execution_count": 13,
   "metadata": {},
   "outputs": [],
   "source": [
    "#define embedding model\n",
    "embeddings: AzureOpenAIEmbeddings = AzureOpenAIEmbeddings(\n",
    "    azure_deployment=azure_deployment,\n",
    "    openai_api_version=azure_openai_api_version,\n",
    "    azure_endpoint=azure_endpoint,\n",
    "    api_key=azure_openai_api_key,\n",
    ")"
   ]
  },
  {
   "cell_type": "code",
   "execution_count": 15,
   "metadata": {},
   "outputs": [],
   "source": [
    "#create a vector index\n",
    "index_name: str = \"pdf-vector-idx\"\n",
    "vector_store: AzureSearch = AzureSearch(\n",
    "    azure_search_endpoint=vector_store_address,\n",
    "    azure_search_key=vector_store_password,\n",
    "    index_name=index_name,\n",
    "    embedding_function=embeddings.embed_query,\n",
    ")"
   ]
  },
  {
   "cell_type": "code",
   "execution_count": 11,
   "metadata": {},
   "outputs": [
    {
     "data": {
      "text/plain": [
       "['MmYxYWQ3ZjEtMTM0My00MWQyLTk5ZjktNjQ0M2E2M2JiMWRm',\n",
       " 'MjE3OWFhMzMtNTIxYS00YThmLWJlMzgtYzhlMTU1NGE3ZDAz',\n",
       " 'ZWM5Zjc0MmEtOGQ2OC00NzMwLTk3OGEtZmE5NjUzMDg3ODg5',\n",
       " 'ZTg3YWJjMDEtOTU5ZC00ZDc5LWJkZjYtODRhNDBhYTQ3ZDVh',\n",
       " 'YjA0OGIxNzgtZDIxMi00MTQyLTg3NzctYzg0NzE2MjNlMzRh',\n",
       " 'ZTk5YjMyMDktODgzNS00Y2IxLWIwOGMtNmYyOTVhMWZiNTA4',\n",
       " 'ZmZkOTg4YzktN2E0MS00MzZhLTliM2UtODk4OGQ3MWE2YTkz',\n",
       " 'ZmYxY2E5NGEtNzc5ZS00OTMwLThlYzItMGFkYWU0MjY3ZGNi',\n",
       " 'M2Y2MDRkNmUtZmQ2Yi00YTViLTk3NzAtNzNhMTVlODlhMzNl',\n",
       " 'ZGMzZDk5ZDMtOTQyNS00ZjdjLTk4MjktNTNmNGQ2ZWM1M2Fl',\n",
       " 'ZWViZWQwOTgtNDcyOC00YTMzLTg1ODktYThkNGFjNmFiYzkw',\n",
       " 'MDE4NjA5MGUtNDc3NC00MjRlLTg0YjUtNWRjOWZjOGI3ZjU3',\n",
       " 'NzBkN2NhNTgtMTNlYy00YWY0LWFhYWYtNWZjOGVmMTY1MjQ0',\n",
       " 'YWY5NWNkNWQtYTFhNS00YzI2LWEzOGItMzUyNDcwZDJhOGE5',\n",
       " 'OTM0MmY4NzktOTc4NS00NGMwLWFmZjUtMmYwOTFlNzMzMGM5',\n",
       " 'M2M3YTEzNDYtNGQ3Mi00NmMxLTk0NjItZmE2MGYxODNlODdl',\n",
       " 'OWI0YWI0MTgtZDA4MS00ZDQ4LTk0OTEtMDYzN2ZkYzMyMWJj',\n",
       " 'MTk0OTZlMTgtZWIyYy00MGZkLTkwNzYtNWYwOThhM2Y1NWEy',\n",
       " 'YmIxNDJhMzMtMWFhYi00MWRiLWE2YjYtMTA0OWQwMzU3Y2Ni',\n",
       " 'MmMyZjQwZTktMjllZC00YTA4LWI3OTEtYWJmYWU5NTU2YTYy',\n",
       " 'MWFlODQ0ZmMtYmU2ZC00MmE0LWJiMmEtOTUwM2Q4MTQ5ZWU0',\n",
       " 'MjdkNzQxNjgtNjczZi00OThiLWI5Y2UtYzdmOGQ4NjhmZGUw',\n",
       " 'NjBkNzY5MmItMmYxNC00OWVmLTgyOTYtMjJhMWNkNGM2M2I3',\n",
       " 'MzczMjVkN2QtZDU4ZS00NzE5LWFkYjEtNzhmZTdiMGRmYjBm',\n",
       " 'ZjQzNjUwYTMtNDYyNS00MGVhLTk1NTUtODNiZGM4ZTgxZWJk',\n",
       " 'YzM3YTBlZjUtNTM2NC00ZWUzLThjOGUtZDY3NDVlYjgwMDA2',\n",
       " 'Nzg4N2E3YWMtYTg3Mi00ZDgzLWJhOTMtYTZiNzUwYzBmYWQx',\n",
       " 'MjJmNWJmZmUtZTE0Mi00MTIxLWI5YjUtNjM4OWY5OGY1YTgx',\n",
       " 'M2E1ZmFmZDktZWM5YS00MjBjLWEwMzUtMThiZWFlZjNhN2Nm',\n",
       " 'M2NkMjk3ODUtYTQzYi00Y2MzLWFlM2ItYjRkOGZkNWM5MmJk',\n",
       " 'MzAyYWYzNDYtNWNlZS00OGQ1LThiZTgtNDZiYTRmYzZiMDQ3',\n",
       " 'MTcyY2M2YjQtY2Q0NS00MzNjLTg1YmUtNGRiMTRkNTFlNjAz',\n",
       " 'Y2M0M2Q3NTItYTlkMy00ZWJmLTljZTctOWMxNTc5ZDJjZGYz',\n",
       " 'N2NjNDBlOWYtNGNlZS00Mjg5LWEyZTgtN2E3OWY1YjQ0MTJi',\n",
       " 'NTA2NDJmN2EtZDkzNC00YTY5LWEwMWUtNWIwZjNmYzJmMGIw',\n",
       " 'ZmJiYmYzYjktYWVmMC00YjdhLThiNTctYmNjNGQ2ODE3YzIw',\n",
       " 'ZjlmZGVhODMtZmIxZC00YjYyLWJiZGYtOTA1OGE5N2QxODRk',\n",
       " 'ZWZiZjVlYjktNDRhOS00YTU5LTk2MDktN2YyZTljZTk1OGY0',\n",
       " 'YjRjMWIzY2UtODdiNC00YTg0LTllYjItNjZjM2RhYTExNDgx',\n",
       " 'MGE1NDVhMDMtMmMwZC00ZWFiLTg4ZjItOGE3NjAzYWU1MjNj',\n",
       " 'M2UyM2VmYTQtODAwMC00OWI0LTg3MjMtZjQ3MGExMTZhMDhl',\n",
       " 'NzYxNzliMDQtYzJhOS00MTE5LTgwMmEtNmY0NjJiMjg5OTU3',\n",
       " 'NWMxNjFmMDYtZGViYS00MzEzLThhYTktOTdkYTk2ZmI2ZDVi',\n",
       " 'YTEzOTEzYzItMWJmOC00ZjZlLWE3YjYtZDViZjY0N2JhOTcz',\n",
       " 'NmQ3ODcwYmMtNjU0MC00ZWNjLThiYTQtNjFkZThiZmNlZTNk',\n",
       " 'YjIyNjJmMDktNmRkYS00YzQ4LTk5YmQtYWZlYjQ1NWE3NzNl',\n",
       " 'ODE2YjE1MmUtMmM5NS00NDlmLWJmOTQtOTdmZWE0YjlhN2M1',\n",
       " 'MzMyMWI5N2YtMGRjYy00NmE1LTk0MmYtOTBlMGFkNjZhN2Yy',\n",
       " 'YjU1MDcxNjktOTI2Ny00MjMwLWIzY2YtYjg2MzcwNjE3NjNl',\n",
       " 'NTQzYzkxM2YtYTkyNC00YmMyLWE1MTUtZmRmYzVmMDM1Yjc3',\n",
       " 'NmNiZjQ2ZTQtZTkwYi00ZTAwLWE1NmItNDc5ODIwNzFjOGEy',\n",
       " 'MzBiNWVlMzEtMWMyOC00ZWE5LWI4M2YtNjhhNGU3NTI4ZDdk',\n",
       " 'OGMwYTkwMjItYzI4OS00Y2E1LTlkZTQtMjA4MmIzNzEzNmE0',\n",
       " 'ZmFlOTAyNzgtMGViZi00ZjU3LWE4YjUtYmIzYzUwMDM3NTYw',\n",
       " 'M2RhNTRhZmItNWNhZS00MDUxLWEwMTQtYzE5YzMzOGJhOTRi',\n",
       " 'MTI0ZWJkZDQtOTBmYS00M2ZkLWEyYjYtYWMzOWE4YzE1YTY3',\n",
       " 'NTU1NzIzMjItYzUzNy00ZWY2LThkNDYtMGFlYmI3MmU3MTg2',\n",
       " 'MmE0MmY4ODgtODJjMS00NTcxLTllMWQtZGU2Y2Y0Yjg2ZmZh',\n",
       " 'ZGE0OWRhY2QtNmY1NS00ZWM1LTllNjctMmY0NDQwYTU4NDZk']"
      ]
     },
     "execution_count": 11,
     "metadata": {},
     "output_type": "execute_result"
    }
   ],
   "source": [
    "#add documents\n",
    "vector_store.add_documents(documents=chunks)"
   ]
  },
  {
   "cell_type": "code",
   "execution_count": 16,
   "metadata": {},
   "outputs": [
    {
     "name": "stdout",
     "output_type": "stream",
     "text": [
      "[]\n",
      "0\n"
     ]
    }
   ],
   "source": [
    "# Perform a similarity search\n",
    "docs = vector_store.similarity_search(\n",
    "    query=\"how to clone delta lake table\",\n",
    "    k=3,\n",
    "    search_type=\"similarity\",\n",
    ")\n",
    "print(docs)\n",
    "print(len(docs))"
   ]
  },
  {
   "cell_type": "code",
   "execution_count": 10,
   "metadata": {},
   "outputs": [],
   "source": [
    "# Define a function to interact with gpt\n",
    "def ask_gpt(query,context):\n",
    "    template = f\"\"\"\n",
    "      You are a information retrieval AI. Format the retrieved information as a table or text\n",
    "      Use only the context for your answers, do not make up information\n",
    "      query: {query}\n",
    "\n",
    "      {context} \n",
    "      \"\"\"\n",
    "    try:\n",
    "        # Call the OpenAI API to generate a response\n",
    "      completion = client.chat.completions.create(\n",
    "        model='gpt-4o-mini',\n",
    "        messages=[\n",
    "            {\"role\": \"system\", \"content\": \"You are a helpful assistant.\"},\n",
    "            {\n",
    "                \"role\": \"user\",\n",
    "                \"content\": template\n",
    "            }\n",
    "          ]\n",
    "        )\n",
    "\n",
    "      return completion.choices[0].message.content\n",
    "\n",
    "    except Exception as e:\n",
    "        print(f\"Error: {e}\")\n",
    "        return None\n",
    "    \n",
    "def combine_docs(docs):\n",
    "    return \"\\n\\n\".join(doc.page_content for doc in docs)"
   ]
  },
  {
   "cell_type": "code",
   "execution_count": 11,
   "metadata": {},
   "outputs": [
    {
     "name": "stdout",
     "output_type": "stream",
     "text": [
      "Here is the information on how to clone a Delta Lake table, formatted in a clear table layout:\n",
      "\n",
      "| Method           | Description                                                                                                                                                         |\n",
      "|------------------|---------------------------------------------------------------------------------------------------------------------------------------------------------------------|\n",
      "| **Deep Clone**    | Fully copies both data and metadata from a source table to a target. This copy is incremental, allowing for synchronization of changes on subsequent executions.  |\n",
      "| **Shallow Clone** | Quickly creates a copy of a table without moving data; only the Delta transaction logs are copied. Useful for testing changes without modifying the original table. |\n",
      "| **CTAS vs Shallow Clone** | Cloning is simpler than Create Table As Select (CTAS), as it faithfully copies the original table's properties (like partitioning and constraints) and is faster and more robust. |\n",
      "\n",
      "### Additional Notes:\n",
      "- When creating a Delta table, a comment can be added for easier content discovery.\n",
      "- A location must be specified to create an external table instead of a managed one.\n",
      "- Tables can be partitioned by a date column, resulting in separate directories for each date in the storage location.\n",
      "\n",
      "This summarizes the methods for cloning tables in Delta Lake and additional considerations when creating Delta tables.\n"
     ]
    }
   ],
   "source": [
    "#Rag\n",
    "\n",
    "question = \"how to clone delta lake table\"\n",
    "\n",
    "retriever = vector_store.as_retriever()\n",
    "\n",
    "docs = retriever.invoke(question)\n",
    "\n",
    "combined_docs_context = combine_docs(docs)\n",
    "\n",
    "response = ask_gpt(question,combined_docs_context)\n",
    "print(response)"
   ]
  },
  {
   "cell_type": "code",
   "execution_count": null,
   "metadata": {},
   "outputs": [],
   "source": []
  }
 ],
 "metadata": {
  "kernelspec": {
   "display_name": ".venv",
   "language": "python",
   "name": "python3"
  },
  "language_info": {
   "codemirror_mode": {
    "name": "ipython",
    "version": 3
   },
   "file_extension": ".py",
   "mimetype": "text/x-python",
   "name": "python",
   "nbconvert_exporter": "python",
   "pygments_lexer": "ipython3",
   "version": "3.13.2"
  }
 },
 "nbformat": 4,
 "nbformat_minor": 2
}
