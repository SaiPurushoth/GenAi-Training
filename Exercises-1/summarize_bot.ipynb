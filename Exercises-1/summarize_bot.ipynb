{
 "cells": [
  {
   "cell_type": "code",
   "execution_count": 2,
   "metadata": {},
   "outputs": [
    {
     "data": {
      "text/plain": [
       "True"
      ]
     },
     "execution_count": 2,
     "metadata": {},
     "output_type": "execute_result"
    }
   ],
   "source": [
    "from langchain_community.document_loaders import PyPDFLoader\n",
    "from langchain.chains.summarize import load_summarize_chain\n",
    "from langchain.text_splitter import RecursiveCharacterTextSplitter\n",
    "from langchain_openai import AzureChatOpenAI\n",
    "from langchain.prompts import PromptTemplate\n",
    "from dotenv import load_dotenv\n",
    "import os\n",
    "\n",
    "load_dotenv()"
   ]
  },
  {
   "cell_type": "code",
   "execution_count": 11,
   "metadata": {},
   "outputs": [
    {
     "name": "stdout",
     "output_type": "stream",
     "text": [
      "None\n"
     ]
    }
   ],
   "source": [
    "# Azure Keys\n",
    "azure_endpoint: str = os.environ.get('AZURE_ENDPOINT')\n",
    "azure_openai_api_key: str = os.environ.get('AZURE_OPENAI_API_KEY')\n",
    "azure_openai_api_version: str = os.environ.get('SUMMARY_AZURE_OPENAI_API_VERSION')\n",
    "azure_deployment: str = os.environ.get('SUMMARY_AZURE_DEPLOYMENT')\n",
    "print(azure_deployment)"
   ]
  },
  {
   "cell_type": "code",
   "execution_count": 4,
   "metadata": {},
   "outputs": [],
   "source": [
    "llm = AzureChatOpenAI(\n",
    "    api_version=azure_openai_api_version,\n",
    "    azure_endpoint = azure_endpoint,\n",
    "    deployment_name= azure_deployment,\n",
    "    model = azure_deployment\n",
    ")"
   ]
  },
  {
   "cell_type": "code",
   "execution_count": null,
   "metadata": {},
   "outputs": [
    {
     "name": "stdout",
     "output_type": "stream",
     "text": [
      "{'producer': 'Acrobat Distiller 9.5.5 (Windows)', 'creator': 'PScript5.dll Version 5.2.2', 'creationdate': '2013-09-10T10:49:51-04:00', 'author': 'INDIADEL', 'moddate': '2013-09-10T10:49:51-04:00', 'title': 'Document', 'source': '../input/nehru_speech.pdf', 'total_pages': 8, 'page': 1, 'page_label': '2'}\n"
     ]
    }
   ],
   "source": [
    "#pdf loader\n",
    "loader = PyPDFLoader(\"../input/Zipse_Speech.pdf\")\n",
    "\n",
    "pages = loader.load()\n",
    "print(pages[1].metadata)"
   ]
  },
  {
   "cell_type": "code",
   "execution_count": 6,
   "metadata": {},
   "outputs": [
    {
     "name": "stdout",
     "output_type": "stream",
     "text": [
      "8\n"
     ]
    }
   ],
   "source": [
    "#document splitter\n",
    "splitter = RecursiveCharacterTextSplitter(\n",
    "  chunk_size = 10000,\n",
    "  chunk_overlap = 500\n",
    ")\n",
    "\n",
    "chunks = splitter.split_documents(pages)\n",
    "\n",
    "print(len(chunks))"
   ]
  },
  {
   "cell_type": "code",
   "execution_count": 7,
   "metadata": {},
   "outputs": [],
   "source": [
    "#custom prompts for each steps\n",
    "map_prompt_template = \"\"\"\n",
    "                      Write a summary of this chunk of text that includes the main points and any important details.\n",
    "                      Use only the context, do not make up information\n",
    "                      {text}\n",
    "                      \"\"\"\n",
    "\n",
    "map_prompt = PromptTemplate(template=map_prompt_template, input_variables=[\"text\"])\n",
    "\n",
    "combine_prompt_template = \"\"\"\n",
    "                      Write a concise summary of the following text delimited by triple backquotes.\n",
    "                      Use only the context for your answers, do not make up information\n",
    "                      Return your response in only 5 bullet points which covers the key points of the text.\n",
    "                      ```{text}```\n",
    "                      BULLET POINT SUMMARY:\n",
    "                      \"\"\"\n",
    "\n",
    "combine_prompt = PromptTemplate(\n",
    "    template=combine_prompt_template, input_variables=[\"text\"]\n",
    ")"
   ]
  },
  {
   "cell_type": "code",
   "execution_count": 8,
   "metadata": {},
   "outputs": [],
   "source": [
    "#initialise the map reduce technique\n",
    "\n",
    "chain = load_summarize_chain(\n",
    "  llm=llm,\n",
    "  chain_type='map_reduce',\n",
    "  map_prompt=map_prompt,\n",
    "  combine_prompt=combine_prompt,\n",
    "  verbose=False\n",
    ")"
   ]
  },
  {
   "cell_type": "code",
   "execution_count": null,
   "metadata": {},
   "outputs": [],
   "source": [
    "#summarise the chunk\n",
    "def run_summary():\n",
    "  summary = chain.run(chunks)\n",
    "  return summary"
   ]
  },
  {
   "cell_type": "code",
   "execution_count": null,
   "metadata": {},
   "outputs": [],
   "source": []
  }
 ],
 "metadata": {
  "kernelspec": {
   "display_name": ".venv",
   "language": "python",
   "name": "python3"
  },
  "language_info": {
   "codemirror_mode": {
    "name": "ipython",
    "version": 3
   },
   "file_extension": ".py",
   "mimetype": "text/x-python",
   "name": "python",
   "nbconvert_exporter": "python",
   "pygments_lexer": "ipython3",
   "version": "3.13.2"
  }
 },
 "nbformat": 4,
 "nbformat_minor": 2
}
