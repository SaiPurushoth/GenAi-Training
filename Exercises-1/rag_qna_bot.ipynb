{
 "cells": [
  {
   "cell_type": "code",
   "execution_count": 2,
   "metadata": {},
   "outputs": [
    {
     "data": {
      "text/plain": [
       "True"
      ]
     },
     "execution_count": 2,
     "metadata": {},
     "output_type": "execute_result"
    }
   ],
   "source": [
    "from langchain_community.document_loaders import PyPDFLoader\n",
    "from langchain.text_splitter import RecursiveCharacterTextSplitter\n",
    "from langchain_community.vectorstores.azuresearch import AzureSearch\n",
    "from langchain_openai import AzureOpenAIEmbeddings\n",
    "from openai import AzureOpenAI\n",
    "from dotenv import load_dotenv\n",
    "import os\n",
    "\n",
    "load_dotenv()"
   ]
  },
  {
   "cell_type": "code",
   "execution_count": 3,
   "metadata": {},
   "outputs": [],
   "source": [
    "# Azure Keys\n",
    "azure_endpoint: str = os.environ.get('AZURE_ENDPOINT')\n",
    "azure_openai_api_key: str = os.environ.get('AZURE_OPENAI_API_KEY')\n",
    "azure_openai_api_version: str = os.environ.get('AZURE_OPENAI_API_VERSION')\n",
    "azure_deployment: str = os.environ.get('AZURE_DEPLOYMENT')"
   ]
  },
  {
   "cell_type": "code",
   "execution_count": 4,
   "metadata": {},
   "outputs": [],
   "source": [
    "#Azure opensearch keys\n",
    "vector_store_address: str = os.environ.get('VECTOR_STORE_ADDRESS')\n",
    "vector_store_password: str = os.environ.get('VECTOR_STORE_PASSWORD')"
   ]
  },
  {
   "cell_type": "code",
   "execution_count": 5,
   "metadata": {},
   "outputs": [],
   "source": [
    "client = AzureOpenAI(\n",
    "    api_key=azure_openai_api_key,\n",
    "    api_version=azure_openai_api_version,\n",
    "    azure_endpoint = azure_endpoint\n",
    ")"
   ]
  },
  {
   "cell_type": "code",
   "execution_count": 6,
   "metadata": {},
   "outputs": [
    {
     "name": "stdout",
     "output_type": "stream",
     "text": [
      "{'producer': 'Microsoft: Print To PDF', 'creator': 'PyPDF', 'creationdate': '2024-05-14T22:16:56+02:00', 'author': 'BMW AG', 'moddate': '2024-05-17T08:49:01+02:00', 'subject': 'Speech of the CEO Oliver Zipse (full text)', 'title': 'Speech of the CEO Oliver Zipse (full text)', 'source': '../input/Zipse_Speech.pdf', 'total_pages': 17, 'page': 1, 'page_label': '2'}\n"
     ]
    }
   ],
   "source": [
    "#pdf loader\n",
    "loader = PyPDFLoader(\"../input/Zipse_Speech.pdf\")\n",
    "\n",
    "pages = loader.load()\n",
    "print(pages[1].metadata)"
   ]
  },
  {
   "cell_type": "code",
   "execution_count": 7,
   "metadata": {},
   "outputs": [
    {
     "name": "stdout",
     "output_type": "stream",
     "text": [
      "82\n"
     ]
    }
   ],
   "source": [
    "#document splitter\n",
    "\n",
    "splitter = RecursiveCharacterTextSplitter(\n",
    "  chunk_size = 500,\n",
    "  chunk_overlap = 75\n",
    ")\n",
    "\n",
    "chunks = splitter.split_documents(pages)\n",
    "\n",
    "print(len(chunks))"
   ]
  },
  {
   "cell_type": "code",
   "execution_count": 8,
   "metadata": {},
   "outputs": [],
   "source": [
    "#define embedding model\n",
    "embeddings: AzureOpenAIEmbeddings = AzureOpenAIEmbeddings(\n",
    "    azure_deployment=azure_deployment,\n",
    "    openai_api_version=azure_openai_api_version,\n",
    "    azure_endpoint=azure_endpoint,\n",
    "    api_key=azure_openai_api_key,\n",
    ")"
   ]
  },
  {
   "cell_type": "code",
   "execution_count": 9,
   "metadata": {},
   "outputs": [],
   "source": [
    "#create a vector index\n",
    "index_name: str = \"pdf-vec-idx\"\n",
    "vector_store: AzureSearch = AzureSearch(\n",
    "    azure_search_endpoint=vector_store_address,\n",
    "    azure_search_key=vector_store_password,\n",
    "    index_name=index_name,\n",
    "    embedding_function=embeddings.embed_query,\n",
    ")"
   ]
  },
  {
   "cell_type": "code",
   "execution_count": 10,
   "metadata": {},
   "outputs": [
    {
     "data": {
      "text/plain": [
       "['MTgxYTc5NjQtNjU3Mi00MDQ5LTkzZmEtNzdiZTRjZjYwMDU4',\n",
       " 'N2E1OThiNmQtNzZhMC00NzQ0LWE4ZTMtMGQwMjU3OGFjZDYw',\n",
       " 'ZDQyZmVmMGEtYjE5MS00MmVhLTk0MWQtMjQ3MjgxMjAwMTNi',\n",
       " 'NmNkOTYwNmItODAzZC00Y2FhLTkzZjctYzdiOWEyYzc2MTUy',\n",
       " 'MDhkMzFhZjQtNmZhMC00NmEwLTk5ODgtOTllN2Q4Njg5ZGQ0',\n",
       " 'ZWVkMjM0NzUtM2I3NC00NWM2LTlkOGQtYTY1MTMwNjdhY2Y3',\n",
       " 'ZTgxZmE1NmQtMzNjYy00ZjRmLTg2ZGEtNjRkZjBiMTYzMzA0',\n",
       " 'YTRhNGRiODYtYTI0YS00ODIzLWE1YjQtY2NiNTQyNTQ0YjBm',\n",
       " 'NTZhNjI0YzEtNzJiYi00ZGQ4LTlkMjEtNzI4OTQxOTM2NTZh',\n",
       " 'NGQyMGIwMWEtZDE0MC00YTdkLWE0YjEtMjlkMzVhYWVmYTk1',\n",
       " 'NDlhNTcwMGUtZmEyZi00ZTAxLTk3YjMtNjczNzRiMjA4NDI2',\n",
       " 'YTE5MDU0MGItNzVjMC00YTE5LTlkMmYtYzAxZjViMmIzZGYz',\n",
       " 'MTcxNzAwOGItOTAyZC00YWI1LWI5MjYtMjE3YTNkYTkyNmQ2',\n",
       " 'ZjA0ZTQwOGItYWI5YS00ODA2LWE5NWYtYTJjZjZlYjMzMmEy',\n",
       " 'YTMzM2ZjYjAtZDM0Yi00ODU3LTgyN2UtYWM5MjViYWQ3NGUz',\n",
       " 'ODE2MmQ3MGUtZDQ0Yi00MzQ5LWEyNWMtMWY0YWU4NzEzYjY3',\n",
       " 'MmQ2Mzc4ZDctZmY4Zi00YjRiLWJjNDEtNThlZjA2NDQ1ZDZh',\n",
       " 'ZWRkOTc2ZmUtMjljMS00ZmY2LWJhMTUtMzk1YTZiMjNlMzdl',\n",
       " 'MGRlZTdkMTAtNTMzNi00Y2RjLWE4YTMtNzFkY2VmNGYyYmU2',\n",
       " 'ZWMwNTM1NDUtNjIyNy00OGE3LTg3OTQtYzRjZTcyYWQ0NmVk',\n",
       " 'NzdlMjJmNjktMDkyNS00ZjUwLTkyOTQtNGUwYzg5YTlkODMx',\n",
       " 'ODQ5ZGJhM2ItNjU3YS00MWFhLWE3ZTctMzM5YTRkNmEzMGIx',\n",
       " 'YmNhY2IyMWUtZTMxZS00ODhkLTk4MDYtZmZhMTFjNTAwNzll',\n",
       " 'MzczYjBkN2EtMTZkMi00ZjU2LWIzMzktYzRmOTYwNGFiMjhi',\n",
       " 'ODNjNzJmMzMtM2Y5Yi00ZDc4LTgzMzYtZjlkZDViNjkxNjJh',\n",
       " 'MTI4NGI2NGQtZGE5OC00MDEzLWIzZjktNTZhZmEwZWU4YjVk',\n",
       " 'ODYyYjU2ZjgtNWE2Ny00YWM0LWI1ZTYtNmM5Y2YyMmUxZjg4',\n",
       " 'ZjNlNzg2Y2UtNDg1MS00ZTVhLThhNzctY2RhNmNiOGJiOWFh',\n",
       " 'NDAwZGY3NjItYWYzYy00NjYyLTkwNzgtNmIzMjZkYWU4YmI5',\n",
       " 'MTg2YzFhNzEtMDEzYy00MTJkLWEzYzUtNGY1YmZjZDczYWM1',\n",
       " 'ZWIxY2Y1NDAtMzVjZS00ODEyLWFlZjgtN2QzYzdmNzE1YmY3',\n",
       " 'OGExODUyNDQtZGIyNS00ODc5LWE1N2QtZDY2YWQ2Y2QwNGUx',\n",
       " 'NTg5OTI0MDQtNGM3Zi00MTM0LWI5YjAtZGExMThjMzhjNzc5',\n",
       " 'MmRiOGUzNmQtYzA3OS00ZmNhLWJkZDQtOTNkOTk1MGNhYjQz',\n",
       " 'ZjVkZmQ4MTktNWI3Zi00YzllLWFmMjktNGViMzgyMTY4OTg0',\n",
       " 'Y2IyN2Y2NjctODE0MC00ZDBmLWI1ZGYtZjY3MzA2ODEyYjU1',\n",
       " 'OWM1NDZkZjMtY2UwZS00OGIzLWE5NjYtNmYwOWQ2NTRjZjNm',\n",
       " 'ODVjMTQ0MDEtOTNhMy00OTFjLTgxOTMtZTg3NDQ0ZWVmMTc5',\n",
       " 'NWUyYWRiZWItZTE2NS00Mzk4LWIyOTUtY2I1YTE2OWZmZjlk',\n",
       " 'MmZiMTEwZjktMGNhYS00ZGE3LThkYWQtNjgyNDljN2IyNzg0',\n",
       " 'MTU0ZmRjYzctOTRkNi00YzU2LThiMzQtNzNiNmNkNjQwNTlj',\n",
       " 'N2ViMGZlYjctN2VmZi00MjUwLTlmZWYtNGEyNDEwNDJhZTcw',\n",
       " 'MjllZDU0NTUtMGIwZi00NjQyLTk0ZGItMGQ2MmE0MzIzYTZm',\n",
       " 'ZWUxODQ5ODgtYjZiMS00MjRkLTkxMWMtY2ZhN2VkZjIwMDU5',\n",
       " 'NmNiMTY5YzctNzcwZi00NTBjLWFhMDgtOTRkNjlmOTg1MzE2',\n",
       " 'NTBmYzM2NDYtMWJkYi00ZWY2LTlmMjEtMzI5NTk5YjMxZGZl',\n",
       " 'MWFhNDNlMzMtNDkzYy00ZjU5LTllNTAtMDNkNGM2ZGM0Y2E0',\n",
       " 'Y2EzYjg4MWMtZDFmMS00NDNmLTlmYmMtM2FhZDlkYThkMjUz',\n",
       " 'MmE2Y2MxYzMtMmY0Ny00MzdmLWE4YWItNjgwYzFkOWJhYzkz',\n",
       " 'NDE0MzIxMDEtM2JhYi00OTcwLWE5OTItN2JjZDA4OTY3OGUw',\n",
       " 'MzUxYjc3ZGMtOGIyYi00OTE3LWExNmEtZGI3NTE3YmViNTRk',\n",
       " 'MThhNjMzMjUtZjAzMi00NDAyLWFkNDItZjY2NjExZTgyMjc3',\n",
       " 'NTlhNjliYzQtNGRjYi00YmI2LThiMWYtNGMyMmVhZDg3YjM2',\n",
       " 'MzJmNzg0NWMtNWM4OC00ODMwLWEyOTAtODJmNDk0MmUzYmVl',\n",
       " 'NDI5NDQ3MjctNDBhZS00ZjMyLThkNTYtMTlmMzlmMmZjOTJm',\n",
       " 'YjBhOWVlODYtN2I3Zi00MmRjLThhYWItYzRiNDRjY2NkNDkz',\n",
       " 'MjY1YzQ4MDktYTFhZC00MDFlLWFiNzMtYWI2ODY4MmM2ZTRi',\n",
       " 'ZWFkNmQwZmEtMjZiNC00Mzk4LWJiYmQtZWUzYjFiMDA2YjU1',\n",
       " 'OGI3MDgxYTgtMzc2Zi00ZjdkLWIyZGQtOWE0ZDEwZmZkZTgx',\n",
       " 'NDNmOGJlMGMtN2FiYy00M2FiLWE1ODUtMTgxZjQyNGQwZGQ1',\n",
       " 'NTAzNWJjODEtYTJhMi00NTU2LWFkNGEtOTEzOTllM2U5NzIw',\n",
       " 'MzNjOTEyYzUtZDJiNi00ODJjLWFmYWYtMmI4N2JkNmIxMzRj',\n",
       " 'NjM2Y2QwM2MtMDljYi00ZjY4LTkxODctNWEyYTY1YzljMDkz',\n",
       " 'N2MyNjc1OWMtNzlkNC00OTA4LTk4ZGMtZTZmNzZlYmIyNWVj',\n",
       " 'NTg5ODJmZTktNjliOS00ODBkLWJiYTktN2NkNzk4NzUzN2Y0',\n",
       " 'ZjhkMjQ4OGMtNjU2OC00NGY0LTkyZGYtZGVkNjNlMmY1Njkx',\n",
       " 'Mjk1ZTU1NjktODQwNS00NWI1LTg0MjYtNTRlNGNlNDUwNTlh',\n",
       " 'MDY5MGRiY2QtNmU4MC00OTljLTkyNDAtMGNmYzUwODExODMx',\n",
       " 'YzU0OTU4ZDYtYWVjMC00ZGY1LWI2YWMtNDUyOTA2NDZiNzVj',\n",
       " 'Y2QyMTk4MWEtZGNlNy00ZDQ4LWEzZGYtNDhiM2VlNTJiNWRj',\n",
       " 'NzczZTk4NDgtOTU1Ni00Y2E5LTk5ZDktNTk2YTM0YWMzZmQy',\n",
       " 'ZTY0MWZiNmItNWI5MC00N2M4LWJkMGMtM2U2ZDNkMjQwOGZl',\n",
       " 'YmMyMzBlOTAtYWVjMy00ZDVjLTgwMzUtYmEyMmViZjY5MWVi',\n",
       " 'NGY2YjFlYWYtOGQxOC00MDhjLWIwMjItMjAyOTY1OWQ1Mjkw',\n",
       " 'YzE3MWYzOWEtZTdkNy00MDIzLWJlNzAtYmVhMzdiY2NmMTY3',\n",
       " 'OTRjOWNkMDMtOGQxZi00YTQ4LWE5MDUtZWZjN2MwZTczNzg0',\n",
       " 'NGIzNTVhYjAtODRmNy00Zjk5LTljMzAtM2ZlNTMwNmJiYWZm',\n",
       " 'NGMxOWRkN2YtNzQwYi00MDFkLTk0OGQtYzlhYmYwNDQzNDEz',\n",
       " 'NzE1MzVlMjQtZTYxNS00YWRkLTg5NGYtZGM5YzQwMzNiZTEw',\n",
       " 'MmMwZDY2M2UtNDRmZS00ZDU4LThlOTYtMTljZmUzMmU2MjEw',\n",
       " 'ZWIwZDM1NTMtMzg1MS00OGRmLTgxMWMtNzdiMDFkZDQzYTM1',\n",
       " 'MDFjYzgwOTctMjYyMS00MGJkLTk3YmEtNzc2Y2ZjYzZmYjcy']"
      ]
     },
     "execution_count": 10,
     "metadata": {},
     "output_type": "execute_result"
    }
   ],
   "source": [
    "#add documents\n",
    "vector_store.add_documents(documents=chunks)"
   ]
  },
  {
   "cell_type": "code",
   "execution_count": 11,
   "metadata": {},
   "outputs": [],
   "source": [
    "# # Perform a similarity search\n",
    "# docs = vector_store.similarity_search(\n",
    "#     query=\"when nehru speech happened\",\n",
    "#     k=3,\n",
    "#     search_type=\"similarity\",\n",
    "# )\n",
    "# print(docs)\n",
    "# print(len(docs))"
   ]
  },
  {
   "cell_type": "code",
   "execution_count": 12,
   "metadata": {},
   "outputs": [],
   "source": [
    "# Define a function to interact with gpt\n",
    "def ask_gpt(query,context):\n",
    "    template = f\"\"\"\n",
    "      You are a information retrieval AI. Format the retrieved information as a table or text\n",
    "      Use only the context for your answers, do not make up information\n",
    "      query: {query}\n",
    "\n",
    "      {context} \n",
    "      \"\"\"\n",
    "    try:\n",
    "        # Call the OpenAI API to generate a response\n",
    "      completion = client.chat.completions.create(\n",
    "        model='gpt-4o-mini',\n",
    "        messages=[\n",
    "            {\"role\": \"system\", \"content\": \"You are a helpful assistant.\"},\n",
    "            {\n",
    "                \"role\": \"user\",\n",
    "                \"content\": template\n",
    "            }\n",
    "          ]\n",
    "        )\n",
    "\n",
    "      return completion.choices[0].message.content\n",
    "\n",
    "    except Exception as e:\n",
    "        print(f\"Error: {e}\")\n",
    "        return None\n",
    "    \n",
    "def combine_docs(docs):\n",
    "    return \"\\n\\n\".join(doc.page_content for doc in docs)"
   ]
  },
  {
   "cell_type": "code",
   "execution_count": 13,
   "metadata": {},
   "outputs": [],
   "source": [
    "\n",
    "def ask_question(question):\n",
    "  retriever = vector_store.as_retriever()\n",
    "\n",
    "  docs = retriever.invoke(question)\n",
    "\n",
    "  combined_docs_context = combine_docs(docs)\n",
    "\n",
    "  response = ask_gpt(question,combined_docs_context)\n",
    "  return response"
   ]
  },
  {
   "cell_type": "code",
   "execution_count": null,
   "metadata": {},
   "outputs": [],
   "source": []
  }
 ],
 "metadata": {
  "kernelspec": {
   "display_name": ".venv",
   "language": "python",
   "name": "python3"
  },
  "language_info": {
   "codemirror_mode": {
    "name": "ipython",
    "version": 3
   },
   "file_extension": ".py",
   "mimetype": "text/x-python",
   "name": "python",
   "nbconvert_exporter": "python",
   "pygments_lexer": "ipython3",
   "version": "3.13.2"
  }
 },
 "nbformat": 4,
 "nbformat_minor": 2
}
